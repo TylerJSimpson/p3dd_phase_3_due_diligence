{
  "nbformat": 4,
  "nbformat_minor": 0,
  "metadata": {
    "colab": {
      "provenance": [],
      "authorship_tag": "ABX9TyNtBXbzBTeIWmZoXOlifBfN",
      "include_colab_link": true
    },
    "kernelspec": {
      "name": "python3",
      "display_name": "Python 3"
    },
    "language_info": {
      "name": "python"
    }
  },
  "cells": [
    {
      "cell_type": "markdown",
      "metadata": {
        "id": "view-in-github",
        "colab_type": "text"
      },
      "source": [
        "<a href=\"https://colab.research.google.com/github/TylerJSimpson/personal_project_clinicaltrials_2023/blob/main/project/EXPLORATORY_linkedin_scrape_to_gcs.ipynb\" target=\"_parent\"><img src=\"https://colab.research.google.com/assets/colab-badge.svg\" alt=\"Open In Colab\"/></a>"
      ]
    },
    {
      "cell_type": "markdown",
      "source": [
        "#Linkedin Webscraping"
      ],
      "metadata": {
        "id": "F06NZjIVXdhc"
      }
    },
    {
      "cell_type": "markdown",
      "source": [
        "## Import Packages"
      ],
      "metadata": {
        "id": "HjY77CCgXgBA"
      }
    },
    {
      "cell_type": "code",
      "execution_count": 84,
      "metadata": {
        "id": "DoTlCKyyXZtI"
      },
      "outputs": [],
      "source": [
        "import requests\n",
        "from bs4 import BeautifulSoup"
      ]
    },
    {
      "cell_type": "markdown",
      "source": [
        "## Function For Scraping Job Titles and Company Name"
      ],
      "metadata": {
        "id": "_TU2rBxFgcD8"
      }
    },
    {
      "cell_type": "code",
      "source": [
        "def get_job_openings(company_name):\n",
        "    # Construct URL for LinkedIn search page\n",
        "    search_url = f\"https://www.linkedin.com/jobs/search/?keywords={company_name}&location=USA\" #need to make this iterative later\n",
        "\n",
        "    # Send GET request\n",
        "    response = requests.get(search_url)\n",
        "\n",
        "    # Parse HTML response\n",
        "    soup = BeautifulSoup(response.text, \"html.parser\")\n",
        "    #print(soup)\n",
        "    job_titles = []\n",
        "    company_names = []\n",
        "    \n",
        "    for job in soup.find_all(\"h3\", {\"class\": \"base-search-card__title\"}):\n",
        "        job_title = job.text.strip()\n",
        "        job_titles.append(job_title)\n",
        "\n",
        "    for company in soup.find_all(\"h4\", {\"class\": \"base-search-card__subtitle\"}):\n",
        "        company_name = company.find(\"a\").text.strip()\n",
        "        company_names.append(company_name)\n",
        "\n",
        "    job_dict = dict(zip(job_titles, company_names))\n",
        "\n",
        "    return job_dict, len(job_dict)"
      ],
      "metadata": {
        "id": "KYWvUrNyfZyf"
      },
      "execution_count": 85,
      "outputs": []
    },
    {
      "cell_type": "markdown",
      "source": [
        "## Pass Argument to Function"
      ],
      "metadata": {
        "id": "lY8A5zMlghVL"
      }
    },
    {
      "cell_type": "code",
      "source": [
        "print(get_job_openings(\"TriState%20capital%20bank\"))\n",
        "\n",
        "#Dealing with spaces: TriState%20capital%20bank\n",
        "\n",
        "#Note we will be passing the company_name argument as a list in the future it will be pulled from BigQuery from companies in stage 3 trials"
      ],
      "metadata": {
        "colab": {
          "base_uri": "https://localhost:8080/"
        },
        "id": "97GFuubfdIOT",
        "outputId": "29e1e728-cb24-497a-eb02-0c30519ee0fd"
      },
      "execution_count": 86,
      "outputs": [
        {
          "output_type": "stream",
          "name": "stdout",
          "text": [
            "({'Fraud Investigator': 'TriState Capital Bank', 'Business Analyst': 'TriState Capital Bank', 'Compensation Analyst': 'TriState Capital Bank', 'AML Analyst': 'TriState Capital Bank', 'Product VP': 'TriState Capital Bank', 'Product Manager': 'TriState Capital Bank', 'Enterprise Application & Business Intelligence Intern': 'TriState Capital Bank', 'Accounting Manager - Specialist': 'TriState Capital Bank', 'Intern: Enterprise Applications and Business Intelligence': 'TriState Capital Bank', 'Compliance Internship': 'TriState Capital Bank', 'Banking Solutions & Reporting Intern': 'TriState Capital Bank', 'CRE Loan Administrator': 'TriState Capital Bank', 'ACH Operations Specialist': 'TriState Capital Bank', 'Sr Deposit Operations Associate': 'TriState Capital Bank', 'Software Quality Assurance Manager VP': 'TriState Capital Bank', 'Capital Markets Sales Support Manager': 'TriState Capital Bank', 'Sr Risk Management Analyst': 'TriState Capital Bank', 'First LOD Risk Manager': 'TriState Capital Bank', 'KYC Business Advisory Lead': 'TriState Capital Bank', 'Risk Management Senior Analyst-Credit Policy': 'TriState Capital Bank', 'Equipment Finance Operations Specialist': 'TriState Capital Bank', 'Portfolio Manager - Risk / CRE Credit': 'TriState Capital Bank', 'Collateral Exception & Admin Specialist': 'TriState Capital Bank', 'Sr IT Administrator & Cloud Engineer': 'TriState Capital Bank', 'Portfolio Manager-C&I': 'TriState Capital Bank'}, 25)\n"
          ]
        }
      ]
    },
    {
      "cell_type": "code",
      "source": [],
      "metadata": {
        "id": "jQ_8fUTZgLnR"
      },
      "execution_count": 73,
      "outputs": []
    }
  ]
}